{
 "cells": [
  {
   "cell_type": "markdown",
   "metadata": {},
   "source": [
    "# Fine-tuning GPT-4o-mini for Sentiment Analysis"
   ]
  },
  {
   "cell_type": "code",
   "execution_count": 141,
   "metadata": {},
   "outputs": [
    {
     "name": "stdout",
     "output_type": "stream",
     "text": [
      "The autoreload extension is already loaded. To reload it, use:\n",
      "  %reload_ext autoreload\n"
     ]
    }
   ],
   "source": [
    "# auto-reload modules and imported functions when they are changed\n",
    "%load_ext autoreload\n",
    "%autoreload 2"
   ]
  },
  {
   "cell_type": "code",
   "execution_count": 142,
   "metadata": {},
   "outputs": [],
   "source": [
    "from langfuse.openai import openai\n",
    "from sklearn.metrics import classification_report\n",
    "import pandas as pd\n",
    "import os\n",
    "import json\n",
    "\n",
    "\n",
    "OPENAI_API_KEY = os.environ.get('OPENAI_API_KEY')\n",
    "OPENAI_ORG_ID = os.environ.get('OPENAI_ORG_ID')"
   ]
  },
  {
   "cell_type": "markdown",
   "metadata": {},
   "source": [
    "## 1. Load dataset"
   ]
  },
  {
   "cell_type": "code",
   "execution_count": 138,
   "metadata": {},
   "outputs": [],
   "source": [
    "# run download_dataset.py before to prepare the dataset\n",
    "df_train = pd.read_csv('train.csv')\n",
    "df_test = pd.read_csv('test.csv')"
   ]
  },
  {
   "cell_type": "code",
   "execution_count": 139,
   "metadata": {},
   "outputs": [
    {
     "data": {
      "text/html": [
       "<div>\n",
       "<style scoped>\n",
       "    .dataframe tbody tr th:only-of-type {\n",
       "        vertical-align: middle;\n",
       "    }\n",
       "\n",
       "    .dataframe tbody tr th {\n",
       "        vertical-align: top;\n",
       "    }\n",
       "\n",
       "    .dataframe thead th {\n",
       "        text-align: right;\n",
       "    }\n",
       "</style>\n",
       "<table border=\"1\" class=\"dataframe\">\n",
       "  <thead>\n",
       "    <tr style=\"text-align: right;\">\n",
       "      <th></th>\n",
       "      <th>text</th>\n",
       "      <th>score</th>\n",
       "      <th>label</th>\n",
       "    </tr>\n",
       "  </thead>\n",
       "  <tbody>\n",
       "    <tr>\n",
       "      <th>0</th>\n",
       "      <td>Based on an actual story, John Boorman shows t...</td>\n",
       "      <td>9</td>\n",
       "      <td>1</td>\n",
       "    </tr>\n",
       "    <tr>\n",
       "      <th>1</th>\n",
       "      <td>This is a gem. As a Film Four production - the...</td>\n",
       "      <td>9</td>\n",
       "      <td>1</td>\n",
       "    </tr>\n",
       "    <tr>\n",
       "      <th>2</th>\n",
       "      <td>I really like this show. It has drama, romance...</td>\n",
       "      <td>9</td>\n",
       "      <td>1</td>\n",
       "    </tr>\n",
       "    <tr>\n",
       "      <th>3</th>\n",
       "      <td>This is the best 3-D experience Disney has at ...</td>\n",
       "      <td>10</td>\n",
       "      <td>1</td>\n",
       "    </tr>\n",
       "    <tr>\n",
       "      <th>4</th>\n",
       "      <td>Of the Korean movies I've seen, only three had...</td>\n",
       "      <td>10</td>\n",
       "      <td>1</td>\n",
       "    </tr>\n",
       "  </tbody>\n",
       "</table>\n",
       "</div>"
      ],
      "text/plain": [
       "                                                text  score  label\n",
       "0  Based on an actual story, John Boorman shows t...      9      1\n",
       "1  This is a gem. As a Film Four production - the...      9      1\n",
       "2  I really like this show. It has drama, romance...      9      1\n",
       "3  This is the best 3-D experience Disney has at ...     10      1\n",
       "4  Of the Korean movies I've seen, only three had...     10      1"
      ]
     },
     "execution_count": 139,
     "metadata": {},
     "output_type": "execute_result"
    }
   ],
   "source": [
    "df_test.head()"
   ]
  },
  {
   "cell_type": "code",
   "execution_count": 140,
   "metadata": {},
   "outputs": [
    {
     "data": {
      "text/plain": [
       "25000"
      ]
     },
     "execution_count": 140,
     "metadata": {},
     "output_type": "execute_result"
    }
   ],
   "source": [
    "len(df_test)"
   ]
  },
  {
   "cell_type": "markdown",
   "metadata": {},
   "source": [
    "## 2. Zero-shot classification"
   ]
  },
  {
   "cell_type": "code",
   "execution_count": 147,
   "metadata": {},
   "outputs": [],
   "source": [
    "# selecting a subset of the test dataset\n",
    "df_test2 = df_test.sample(1000, random_state=123).copy()\n",
    "X = df_test2[\"text\"].values\n",
    "y = df_test2[\"label\"].values"
   ]
  },
  {
   "cell_type": "code",
   "execution_count": 58,
   "metadata": {},
   "outputs": [],
   "source": [
    "# from skllm.models.gpt.classification.zero_shot import ZeroShotGPTClassifier\n",
    "\n",
    "\n",
    "# clf = ZeroShotGPTClassifier(key=OPENAI_API_KEY, org=OPENAI_ORG_ID, model=\"gpt-4o-mini-2024-07-18\")\n",
    "# clf.fit(None, [\"positive\", \"negative\", \"neutral\"])\n",
    "# labels = clf.predict(X)"
   ]
  },
  {
   "cell_type": "code",
   "execution_count": 148,
   "metadata": {},
   "outputs": [],
   "source": [
    "from langchain.prompts import ChatPromptTemplate\n",
    "from llm_utils import run_zeroshot_clf\n",
    "\n",
    "\n",
    "user_prompt = \"Classify the sentiment of the following movie review as either 'positive' or 'negative'. Movie review: {input}\"\n",
    "\n",
    "prompt_template = ChatPromptTemplate.from_template(\n",
    "    user_prompt\n",
    ")"
   ]
  },
  {
   "cell_type": "code",
   "execution_count": 149,
   "metadata": {},
   "outputs": [],
   "source": [
    "model_id = \"gpt-4o-mini-2024-07-18\"\n",
    "predicted = run_zeroshot_clf(docs=X, prompt=prompt_template, model=model_id)"
   ]
  },
  {
   "cell_type": "code",
   "execution_count": 150,
   "metadata": {},
   "outputs": [
    {
     "data": {
      "text/html": [
       "<div>\n",
       "<style scoped>\n",
       "    .dataframe tbody tr th:only-of-type {\n",
       "        vertical-align: middle;\n",
       "    }\n",
       "\n",
       "    .dataframe tbody tr th {\n",
       "        vertical-align: top;\n",
       "    }\n",
       "\n",
       "    .dataframe thead th {\n",
       "        text-align: right;\n",
       "    }\n",
       "</style>\n",
       "<table border=\"1\" class=\"dataframe\">\n",
       "  <thead>\n",
       "    <tr style=\"text-align: right;\">\n",
       "      <th></th>\n",
       "      <th>text</th>\n",
       "      <th>score</th>\n",
       "      <th>label</th>\n",
       "      <th>predicted</th>\n",
       "    </tr>\n",
       "  </thead>\n",
       "  <tbody>\n",
       "    <tr>\n",
       "      <th>20000</th>\n",
       "      <td>As a Bruce Campbell fan for nearly two decades...</td>\n",
       "      <td>3</td>\n",
       "      <td>0</td>\n",
       "      <td>0.0</td>\n",
       "    </tr>\n",
       "    <tr>\n",
       "      <th>5515</th>\n",
       "      <td>I think One True Thing is one of Meryl Streeps...</td>\n",
       "      <td>10</td>\n",
       "      <td>1</td>\n",
       "      <td>1.0</td>\n",
       "    </tr>\n",
       "    <tr>\n",
       "      <th>966</th>\n",
       "      <td>This film grabbed me right from its start, whe...</td>\n",
       "      <td>8</td>\n",
       "      <td>1</td>\n",
       "      <td>1.0</td>\n",
       "    </tr>\n",
       "    <tr>\n",
       "      <th>22726</th>\n",
       "      <td>The film starts well enough. It is a truly ter...</td>\n",
       "      <td>3</td>\n",
       "      <td>0</td>\n",
       "      <td>0.0</td>\n",
       "    </tr>\n",
       "    <tr>\n",
       "      <th>2690</th>\n",
       "      <td>Walter Matthau can always improve a mediocre f...</td>\n",
       "      <td>7</td>\n",
       "      <td>1</td>\n",
       "      <td>1.0</td>\n",
       "    </tr>\n",
       "    <tr>\n",
       "      <th>...</th>\n",
       "      <td>...</td>\n",
       "      <td>...</td>\n",
       "      <td>...</td>\n",
       "      <td>...</td>\n",
       "    </tr>\n",
       "    <tr>\n",
       "      <th>18889</th>\n",
       "      <td>As I am a fan of hospital and medical shows, I...</td>\n",
       "      <td>4</td>\n",
       "      <td>0</td>\n",
       "      <td>0.0</td>\n",
       "    </tr>\n",
       "    <tr>\n",
       "      <th>18110</th>\n",
       "      <td>The idea for the movie wasn't too bad: a horro...</td>\n",
       "      <td>3</td>\n",
       "      <td>0</td>\n",
       "      <td>0.0</td>\n",
       "    </tr>\n",
       "    <tr>\n",
       "      <th>18953</th>\n",
       "      <td>I like underground films when they have someth...</td>\n",
       "      <td>2</td>\n",
       "      <td>0</td>\n",
       "      <td>0.0</td>\n",
       "    </tr>\n",
       "    <tr>\n",
       "      <th>19865</th>\n",
       "      <td>Mario Racocevic from Europe is the only user w...</td>\n",
       "      <td>4</td>\n",
       "      <td>0</td>\n",
       "      <td>0.0</td>\n",
       "    </tr>\n",
       "    <tr>\n",
       "      <th>16822</th>\n",
       "      <td>The only thing of interest about this movie is...</td>\n",
       "      <td>1</td>\n",
       "      <td>0</td>\n",
       "      <td>0.0</td>\n",
       "    </tr>\n",
       "  </tbody>\n",
       "</table>\n",
       "<p>1000 rows × 4 columns</p>\n",
       "</div>"
      ],
      "text/plain": [
       "                                                    text  score  label  \\\n",
       "20000  As a Bruce Campbell fan for nearly two decades...      3      0   \n",
       "5515   I think One True Thing is one of Meryl Streeps...     10      1   \n",
       "966    This film grabbed me right from its start, whe...      8      1   \n",
       "22726  The film starts well enough. It is a truly ter...      3      0   \n",
       "2690   Walter Matthau can always improve a mediocre f...      7      1   \n",
       "...                                                  ...    ...    ...   \n",
       "18889  As I am a fan of hospital and medical shows, I...      4      0   \n",
       "18110  The idea for the movie wasn't too bad: a horro...      3      0   \n",
       "18953  I like underground films when they have someth...      2      0   \n",
       "19865  Mario Racocevic from Europe is the only user w...      4      0   \n",
       "16822  The only thing of interest about this movie is...      1      0   \n",
       "\n",
       "       predicted  \n",
       "20000        0.0  \n",
       "5515         1.0  \n",
       "966          1.0  \n",
       "22726        0.0  \n",
       "2690         1.0  \n",
       "...          ...  \n",
       "18889        0.0  \n",
       "18110        0.0  \n",
       "18953        0.0  \n",
       "19865        0.0  \n",
       "16822        0.0  \n",
       "\n",
       "[1000 rows x 4 columns]"
      ]
     },
     "execution_count": 150,
     "metadata": {},
     "output_type": "execute_result"
    }
   ],
   "source": [
    "df_test2[\"predicted\"] = [v.sentiment for v in predicted]\n",
    "df_test2[\"predicted\"] = df_test2[\"predicted\"].map({\"positive\": 1, \"negative\": 0})\n",
    "df_test2"
   ]
  },
  {
   "cell_type": "code",
   "execution_count": 151,
   "metadata": {},
   "outputs": [],
   "source": [
    "df_test2[\"predicted\"].isna().sum()\n",
    "df_test2.dropna(subset=[\"predicted\"], inplace=True)"
   ]
  },
  {
   "cell_type": "code",
   "execution_count": 152,
   "metadata": {},
   "outputs": [
    {
     "name": "stdout",
     "output_type": "stream",
     "text": [
      "              precision    recall  f1-score   support\n",
      "\n",
      "           0       0.93      0.97      0.95       511\n",
      "           1       0.97      0.92      0.95       488\n",
      "\n",
      "    accuracy                           0.95       999\n",
      "   macro avg       0.95      0.95      0.95       999\n",
      "weighted avg       0.95      0.95      0.95       999\n",
      "\n"
     ]
    }
   ],
   "source": [
    "from sklearn.metrics import classification_report\n",
    "\n",
    "print(classification_report(df_test2[\"label\"], df_test2[\"predicted\"]))"
   ]
  },
  {
   "cell_type": "code",
   "execution_count": 127,
   "metadata": {},
   "outputs": [],
   "source": [
    "# df_test2.to_csv(\"fpredictions.csv\")"
   ]
  },
  {
   "cell_type": "markdown",
   "metadata": {},
   "source": [
    "## 3. Fine-tuning"
   ]
  },
  {
   "cell_type": "markdown",
   "metadata": {},
   "source": [
    "### 3.1 Prepare ft instances"
   ]
  },
  {
   "cell_type": "code",
   "execution_count": 103,
   "metadata": {},
   "outputs": [],
   "source": [
    "# Define your training data 80/20 split\n",
    "training_data = []\n",
    "validation_data = []\n",
    "\n",
    "for i, (_, row) in enumerate(df_train.query(\"label == 1\").sample(100, random_state=123).iterrows()):\n",
    "    if i < 80:\n",
    "        training_data.append({\"messages\": [{\"role\": \"user\", \"content\": user_prompt.format(input=row[\"text\"])}, {\"role\": \"assistant\", \"content\": \"positive\"}]})\n",
    "    else:\n",
    "        validation_data.append({\"messages\": [{\"role\": \"user\", \"content\": user_prompt.format(input=row[\"text\"])}, {\"role\": \"assistant\", \"content\": \"positive\"}]})\n",
    "\n",
    "for i, (_, row) in enumerate(df_train.query(\"label == 0\").sample(100, random_state=123).iterrows()):\n",
    "    if i < 80:\n",
    "        training_data.append({\"messages\": [{\"role\": \"user\", \"content\": user_prompt.format(input=row[\"text\"])}, {\"role\": \"assistant\", \"content\": \"negative\"}]})\n",
    "    else:\n",
    "        validation_data.append({\"messages\": [{\"role\": \"user\", \"content\": user_prompt.format(input=row[\"text\"])}, {\"role\": \"assistant\", \"content\": \"negative\"}]})"
   ]
  },
  {
   "cell_type": "code",
   "execution_count": 104,
   "metadata": {},
   "outputs": [
    {
     "data": {
      "text/plain": [
       "(160, 40)"
      ]
     },
     "execution_count": 104,
     "metadata": {},
     "output_type": "execute_result"
    }
   ],
   "source": [
    "len(training_data), len(validation_data)"
   ]
  },
  {
   "cell_type": "code",
   "execution_count": 105,
   "metadata": {},
   "outputs": [],
   "source": [
    "with open(\"finetuning_training_movie_reviews.jsonl\", \"w\") as f:\n",
    "    for data in training_data:\n",
    "        f.write(json.dumps(data) + \"\\n\")\n",
    "\n",
    "with open(\"finetuning_validation_movie_reviews.jsonl\", \"w\") as f:\n",
    "    for data in validation_data:\n",
    "        f.write(json.dumps(data) + \"\\n\")"
   ]
  },
  {
   "cell_type": "markdown",
   "metadata": {},
   "source": [
    "### 3.2 Upload training file"
   ]
  },
  {
   "cell_type": "code",
   "execution_count": 106,
   "metadata": {},
   "outputs": [
    {
     "data": {
      "text/plain": [
       "FileObject(id='file-czqmGrEWG6NAmtns3WjeompB', bytes=224766, created_at=1725639802, filename='finetuning_training_movie_reviews.jsonl', object='file', purpose='fine-tune', status='processed', status_details=None)"
      ]
     },
     "execution_count": 106,
     "metadata": {},
     "output_type": "execute_result"
    }
   ],
   "source": [
    "# Upload a training file\n",
    "from openai import OpenAI\n",
    "\n",
    "\n",
    "client = OpenAI()\n",
    "\n",
    "res = client.files.create(\n",
    "  file=open(\"finetuning_training_movie_reviews.jsonl\", \"rb\"),\n",
    "  purpose=\"fine-tune\"\n",
    ")\n",
    "\n",
    "training_file_id = res.id\n",
    "\n",
    "res"
   ]
  },
  {
   "cell_type": "code",
   "execution_count": 107,
   "metadata": {},
   "outputs": [
    {
     "data": {
      "text/plain": [
       "FileObject(id='file-HUA4edsRJxwX2UBf0uLtNHos', bytes=62273, created_at=1725639804, filename='finetuning_validation_movie_reviews.jsonl', object='file', purpose='fine-tune', status='processed', status_details=None)"
      ]
     },
     "execution_count": 107,
     "metadata": {},
     "output_type": "execute_result"
    }
   ],
   "source": [
    "res = client.files.create(\n",
    "  file=open(\"finetuning_validation_movie_reviews.jsonl\", \"rb\"),\n",
    "  purpose=\"fine-tune\"\n",
    ")\n",
    "\n",
    "validation_file_id = res.id\n",
    "\n",
    "res"
   ]
  },
  {
   "cell_type": "code",
   "execution_count": 108,
   "metadata": {},
   "outputs": [
    {
     "data": {
      "text/plain": [
       "('file-czqmGrEWG6NAmtns3WjeompB', 'file-HUA4edsRJxwX2UBf0uLtNHos')"
      ]
     },
     "execution_count": 108,
     "metadata": {},
     "output_type": "execute_result"
    }
   ],
   "source": [
    "training_file_id, validation_file_id"
   ]
  },
  {
   "cell_type": "markdown",
   "metadata": {},
   "source": [
    "### 3.3 Run fine-tuning job"
   ]
  },
  {
   "cell_type": "code",
   "execution_count": 115,
   "metadata": {},
   "outputs": [],
   "source": [
    "# Create a fine-tuned model\n",
    "from openai import OpenAI\n",
    "\n",
    "\n",
    "client = OpenAI()\n",
    "\n",
    "ft_res = client.fine_tuning.jobs.create(\n",
    "  training_file=training_file_id, \n",
    "  validation_file=validation_file_id,\n",
    "  model=\"gpt-4o-mini-2024-07-18\",\n",
    "  suffix=\"aitecit\",\n",
    "  # hyperparameters={\"n_epochs\": 3},\n",
    "  seed=123\n",
    ")\n",
    "\n",
    "ft_res"
   ]
  },
  {
   "cell_type": "code",
   "execution_count": 114,
   "metadata": {},
   "outputs": [
    {
     "data": {
      "text/plain": [
       "FineTuningJob(id='ftjob-2J6w6jlIY9Wih1H9oZTQeoy7', created_at=1725640326, error=Error(code=None, message=None, param=None), fine_tuned_model=None, finished_at=None, hyperparameters=Hyperparameters(n_epochs=3, batch_size='auto', learning_rate_multiplier='auto'), model='gpt-4o-mini-2024-07-18', object='fine_tuning.job', organization_id='org-HRXXhIy6fEPecJi7HZUMzoEv', result_files=[], seed=123, status='validating_files', trained_tokens=None, training_file='file-czqmGrEWG6NAmtns3WjeompB', validation_file='file-HUA4edsRJxwX2UBf0uLtNHos', estimated_finish=None, integrations=[], user_provided_suffix='aitecit')"
      ]
     },
     "execution_count": 114,
     "metadata": {},
     "output_type": "execute_result"
    }
   ],
   "source": [
    "job_id = ft_res.id"
   ]
  },
  {
   "cell_type": "code",
   "execution_count": 119,
   "metadata": {},
   "outputs": [],
   "source": [
    "response = client.fine_tuning.jobs.retrieve(job_id)\n",
    "fine_tuned_model_id = response.fine_tuned_model"
   ]
  },
  {
   "cell_type": "code",
   "execution_count": 120,
   "metadata": {},
   "outputs": [
    {
     "data": {
      "text/plain": [
       "'ft:gpt-4o-mini-2024-07-18:technology-it:aitecit:A4WO5hk6'"
      ]
     },
     "execution_count": 120,
     "metadata": {},
     "output_type": "execute_result"
    }
   ],
   "source": [
    "fine_tuned_model_id"
   ]
  },
  {
   "cell_type": "markdown",
   "metadata": {},
   "source": [
    "### 3.4 Inference"
   ]
  },
  {
   "cell_type": "code",
   "execution_count": 134,
   "metadata": {},
   "outputs": [],
   "source": [
    "fine_tuned_model_id = \"ft:gpt-4o-mini-2024-07-18:technology-it:aitecit:A4WO5hk6\"\n",
    "predicted = run_zeroshot_clf(docs=X, prompt=prompt_template, model=fine_tuned_model_id)"
   ]
  },
  {
   "cell_type": "code",
   "execution_count": 135,
   "metadata": {},
   "outputs": [
    {
     "name": "stdout",
     "output_type": "stream",
     "text": [
      "              precision    recall  f1-score   support\n",
      "\n",
      "           0       0.98      0.94      0.96       511\n",
      "           1       0.94      0.98      0.96       489\n",
      "\n",
      "    accuracy                           0.96      1000\n",
      "   macro avg       0.96      0.96      0.96      1000\n",
      "weighted avg       0.96      0.96      0.96      1000\n",
      "\n"
     ]
    }
   ],
   "source": [
    "df_test2[\"predicted_ft\"] = [v.sentiment for v in predicted]\n",
    "df_test2[\"predicted_ft\"] = df_test2[\"predicted_ft\"].map({\"positive\": 1, \"negative\": 0})\n",
    "print(classification_report(df_test2[\"label\"], df_test2[\"predicted_ft\"]))"
   ]
  },
  {
   "cell_type": "code",
   "execution_count": null,
   "metadata": {},
   "outputs": [],
   "source": []
  }
 ],
 "metadata": {
  "kernelspec": {
   "display_name": "ml-playground",
   "language": "python",
   "name": "python3"
  },
  "language_info": {
   "codemirror_mode": {
    "name": "ipython",
    "version": 3
   },
   "file_extension": ".py",
   "mimetype": "text/x-python",
   "name": "python",
   "nbconvert_exporter": "python",
   "pygments_lexer": "ipython3",
   "version": "3.11.9"
  }
 },
 "nbformat": 4,
 "nbformat_minor": 2
}
